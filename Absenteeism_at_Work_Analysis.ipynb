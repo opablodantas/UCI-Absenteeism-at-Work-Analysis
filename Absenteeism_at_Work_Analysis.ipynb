{
 "cells": [
  {
   "cell_type": "markdown",
   "metadata": {},
   "source": [
    "<h1 style=\"text-align:center;\">Análise de Absentismo no Trabalho - Conjunto de Dados UCI</h1>\n"
   ]
  },
  {
   "cell_type": "markdown",
   "metadata": {},
   "source": [
    "\n",
    "\n",
    "## Descrição do Problema\n",
    "\n",
    "O problema do absentismo no local de trabalho é uma questão crítica que afeta a eficiência e o desempenho das organizações. O absentismo refere-se à ausência não planejada de funcionários do trabalho, que pode resultar em interrupções operacionais, queda na produtividade e custos adicionais para as empresas. Compreender as causas e os padrões de absentismo é fundamental para tomar medidas preventivas e melhorar o ambiente de trabalho.\n",
    "\n",
    "## Objetivos da Análise\n",
    "\n",
    "Este projeto tem como objetivo realizar uma análise abrangente do conjunto de dados \"Absenteeism at Work\" da UCI Machine Learning Repository. Os principais objetivos da análise são:\n",
    "\n",
    "1. **Exploração de Dados**: Investigar a distribuição das variáveis e entender a estrutura do conjunto de dados.\n",
    "\n",
    "2. **Identificação de Motivos de Absentismo**: Determinar os principais motivos ou categorias que contribuem para o absentismo no local de trabalho.\n",
    "\n",
    "3. **Relações entre Variáveis**: Analisar como diferentes variáveis, como idade, tempo de serviço, e outros fatores, estão relacionadas ao absentismo.\n",
    "\n",
    "4. **Possível Modelagem Preditiva**: Avaliar a possibilidade de construir modelos preditivos que estimem o absentismo com base nas informações disponíveis.\n",
    "\n",
    "Ao alcançar esses objetivos, esperamos fornecer insights valiosos que ajudem a organização a tomar medidas para reduzir o absentismo no local de trabalho, melhorando assim a eficiência e a produtividade.\n",
    "\n"
   ]
  },
  {
   "cell_type": "markdown",
   "metadata": {},
   "source": [
    "Aqui está uma descrição organizada das variáveis presentes no conjunto de dados \"Absenteeism at Work\":\n",
    "\n",
    "1. **Individual Identification (ID)**: Este é um identificador único para cada indivíduo no conjunto de dados, permitindo a identificação exclusiva de cada registro.\n",
    "\n",
    "2. **Reason for Absence (ICD)**: Esta variável representa o motivo da ausência do trabalhador e é codificada com base na Classificação Internacional de Doenças (ICD). Ela é estratificada em 21 categorias, abrangendo desde doenças infecciosas até fatores que afetam a saúde.\n",
    "\n",
    "3. **Month of Absence**: Indica o mês em que a ausência ocorreu, permitindo a análise sazonal das ausências no local de trabalho.\n",
    "\n",
    "4. **Day of the Week**: Representa o dia da semana em que a ausência ocorreu, com valores numéricos para cada dia (por exemplo, segunda-feira é 2).\n",
    "\n",
    "5. **Seasons**: Categoriza as estações do ano, o que pode ser útil para entender as variações sazonais nas ausências (verão, outono, inverno, primavera).\n",
    "\n",
    "6. **Transportation Expense**: Refere-se às despesas de transporte incorridas pelo funcionário para chegar ao local de trabalho.\n",
    "\n",
    "7. **Distance from Residence to Work**: Indica a distância em quilômetros entre a residência do funcionário e o local de trabalho.\n",
    "\n",
    "8. **Service Time**: Representa o tempo de serviço do funcionário na organização.\n",
    "\n",
    "9. **Age**: Idade do funcionário.\n",
    "\n",
    "10. **Workload Average/Day**: A carga de trabalho média por dia, que pode influenciar a saúde e o bem-estar do funcionário.\n",
    "\n",
    "11. **Hit Target**: Indica se o funcionário atingiu suas metas de desempenho.\n",
    "\n",
    "12. **Disciplinary Failure**: Uma variável binária que indica se houve alguma violação disciplinar (1 para sim, 0 para não).\n",
    "\n",
    "13. **Education**: O nível de educação do funcionário, categorizado em diferentes graus (do ensino médio a pós-doutorado).\n",
    "\n",
    "14. **Son**: O número de filhos do funcionário.\n",
    "\n",
    "15. **Social Drinker**: Uma variável binária que indica se o funcionário é um bebedor social (1 para sim, 0 para não).\n",
    "\n",
    "16. **Social Smoker**: Uma variável binária que indica se o funcionário é um fumante social (1 para sim, 0 para não).\n",
    "\n",
    "17. **Pet**: O número de animais de estimação que o funcionário possui.\n",
    "\n",
    "18. **Weight**: O peso do funcionário.\n",
    "\n",
    "19. **Height**: A altura do funcionário.\n",
    "\n",
    "20. **Body Mass Index (BMI)**: O índice de massa corporal do funcionário, calculado a partir do peso e altura.\n",
    "\n",
    "21. **Absenteeism Time in Hours**: Esta é a variável alvo que representa o tempo de ausência do funcionário em horas. É o principal foco de análise neste projeto.\n",
    "\n",
    "Essas variáveis fornecem uma visão abrangente das informações disponíveis no conjunto de dados \"Absenteeism at Work\" e podem ser exploradas para entender os padrões de absentismo no local de trabalho e suas causas."
   ]
  },
  {
   "cell_type": "markdown",
   "metadata": {},
   "source": [
    "Aqui está uma descrição organizada das ICDs (Códigos Internacionais de Doenças) e das categorias sem CID no conjunto de dados \"Absenteeism at Work\":\n",
    "\n",
    "### Categorias de Absentismo Atestado por ICD (I a XXI)\n",
    "\n",
    "As ICDs representam a razão médica pela qual um funcionário está ausente do trabalho e são estratificadas em 21 categorias:\n",
    "\n",
    "I. **Certas Doenças Infecciosas e Parasitárias**: Inclui ausências devido a doenças infecciosas e parasitárias.\n",
    "\n",
    "II. **Neoplasias (Câncer)**: Abrange ausências relacionadas a diagnóstico ou tratamento de câncer.\n",
    "\n",
    "III. **Doenças do Sangue e dos Órgãos Hematopoéticos e Distúrbios Imunológicos**: Engloba ausências relacionadas a distúrbios sanguíneos e imunológicos.\n",
    "\n",
    "IV. **Doenças Endócrinas, Nutricionais e Metabólicas**: Inclui ausências devido a distúrbios endócrinos, nutricionais e metabólicos.\n",
    "\n",
    "V. **Transtornos Mentais e Comportamentais**: Refere-se a ausências relacionadas a problemas de saúde mental e comportamental.\n",
    "\n",
    "VI. **Doenças do Sistema Nervoso**: Abrange ausências devido a doenças neurológicas.\n",
    "\n",
    "VII. **Doenças dos Olhos e Anexos**: Inclui ausências relacionadas a problemas oculares.\n",
    "\n",
    "VIII. **Doenças do Ouvido e Processo Mastoide**: Engloba ausências relacionadas a problemas de audição.\n",
    "\n",
    "IX. **Doenças do Sistema Circulatório**: Refere-se a ausências devido a doenças cardíacas e vasculares.\n",
    "\n",
    "X. **Doenças do Sistema Respiratório**: Abrange ausências relacionadas a problemas respiratórios.\n",
    "\n",
    "XI. **Doenças do Sistema Digestivo**: Inclui ausências devido a problemas gastrointestinais.\n",
    "\n",
    "XII. **Doenças da Pele e do Tecido Subcutâneo**: Engloba ausências relacionadas a condições dermatológicas.\n",
    "\n",
    "XIII. **Doenças do Sistema Musculoesquelético e do Tecido Conjuntivo**: Refere-se a ausências relacionadas a problemas musculoesqueléticos.\n",
    "\n",
    "XIV. **Doenças do Sistema Geniturinário**: Abrange ausências devido a problemas nos órgãos geniturinários.\n",
    "\n",
    "XV. **Gravidez, Parto e Puerpério**: Inclui ausências relacionadas a eventos relacionados à gravidez e parto.\n",
    "\n",
    "XVI. **Condições Originadas no Período Perinatal**: Engloba ausências relacionadas a condições de recém-nascidos.\n",
    "\n",
    "XVII. **Malformações Congênitas, Deformidades e Anomalias Cromossômicas**: Refere-se a ausências devido a problemas congênitos.\n",
    "\n",
    "XVIII. **Sintomas, Sinais e Achados Clínicos e de Laboratório Anormais, não Classificados em Outro Local**: Abrange ausências devido a achados médicos anormais.\n",
    "\n",
    "XIX. **Lesões, Envenenamentos e Outras Consequências de Causas Externas**: Inclui ausências relacionadas a acidentes e envenenamentos.\n",
    "\n",
    "XX. **Causas Externas de Morbidade e Mortalidade**: Engloba ausências devido a causas externas, como acidentes e ferimentos.\n",
    "\n",
    "XXI. **Fatores que Influenciam o Estado de Saúde e Contato com Serviços de Saúde**: Refere-se a ausências relacionadas a fatores de saúde e consultas médicas.\n",
    "\n",
    "### Categorias sem CID\n",
    "\n",
    "Além das categorias de ICD, há 7 categorias adicionais sem CID:\n",
    "\n",
    "22. **Seguimento ao Paciente**: Indica ausências relacionadas ao acompanhamento médico de um paciente.\n",
    "\n",
    "23. **Consulta Médica**: Refere-se a ausências devido a consultas médicas.\n",
    "\n",
    "24. **Doação de Sangue**: Abrange ausências relacionadas à doação de sangue.\n",
    "\n",
    "25. **Exame de Laboratório**: Engloba ausências relacionadas a exames laboratoriais.\n",
    "\n",
    "26. **Ausência Injustificada**: Indica ausências sem motivo justificado.\n",
    "\n",
    "27. **Fisioterapia**: Refere-se a ausências relacionadas a sessões de fisioterapia.\n",
    "\n",
    "28. **Consulta Odontológica**: Abrange ausências devido a consultas odontológicas.\n",
    "\n",
    "Essas categorias permitem uma análise detalhada das razões para o absentismo no local de trabalho, cobrindo uma variedade de motivos médicos e não médicos."
   ]
  },
  {
   "cell_type": "markdown",
   "metadata": {},
   "source": []
  },
  {
   "cell_type": "markdown",
   "metadata": {},
   "source": [
    "### Leitura de dados"
   ]
  },
  {
   "cell_type": "code",
   "execution_count": 1,
   "metadata": {},
   "outputs": [],
   "source": [
    "# Importando os pacotes para leitura e manipulação de dados \n",
    "import pandas as pd\n",
    "import numpy as np"
   ]
  },
  {
   "cell_type": "code",
   "execution_count": 2,
   "metadata": {
    "scrolled": true
   },
   "outputs": [
    {
     "data": {
      "text/html": [
       "<div>\n",
       "<style scoped>\n",
       "    .dataframe tbody tr th:only-of-type {\n",
       "        vertical-align: middle;\n",
       "    }\n",
       "\n",
       "    .dataframe tbody tr th {\n",
       "        vertical-align: top;\n",
       "    }\n",
       "\n",
       "    .dataframe thead th {\n",
       "        text-align: right;\n",
       "    }\n",
       "</style>\n",
       "<table border=\"1\" class=\"dataframe\">\n",
       "  <thead>\n",
       "    <tr style=\"text-align: right;\">\n",
       "      <th></th>\n",
       "      <th>ID</th>\n",
       "      <th>Reason for absence</th>\n",
       "      <th>Month of absence</th>\n",
       "      <th>Day of the week</th>\n",
       "      <th>Seasons</th>\n",
       "      <th>Transportation expense</th>\n",
       "      <th>Distance from Residence to Work</th>\n",
       "      <th>Service time</th>\n",
       "      <th>Age</th>\n",
       "      <th>Work load Average/day</th>\n",
       "      <th>...</th>\n",
       "      <th>Disciplinary failure</th>\n",
       "      <th>Education</th>\n",
       "      <th>Son</th>\n",
       "      <th>Social drinker</th>\n",
       "      <th>Social smoker</th>\n",
       "      <th>Pet</th>\n",
       "      <th>Weight</th>\n",
       "      <th>Height</th>\n",
       "      <th>Body mass index</th>\n",
       "      <th>Absenteeism time in hours</th>\n",
       "    </tr>\n",
       "  </thead>\n",
       "  <tbody>\n",
       "    <tr>\n",
       "      <th>735</th>\n",
       "      <td>11</td>\n",
       "      <td>14</td>\n",
       "      <td>7</td>\n",
       "      <td>3</td>\n",
       "      <td>1</td>\n",
       "      <td>289</td>\n",
       "      <td>36</td>\n",
       "      <td>13</td>\n",
       "      <td>33</td>\n",
       "      <td>264.604</td>\n",
       "      <td>...</td>\n",
       "      <td>0</td>\n",
       "      <td>1</td>\n",
       "      <td>2</td>\n",
       "      <td>1</td>\n",
       "      <td>0</td>\n",
       "      <td>1</td>\n",
       "      <td>90</td>\n",
       "      <td>172</td>\n",
       "      <td>30</td>\n",
       "      <td>8</td>\n",
       "    </tr>\n",
       "    <tr>\n",
       "      <th>736</th>\n",
       "      <td>1</td>\n",
       "      <td>11</td>\n",
       "      <td>7</td>\n",
       "      <td>3</td>\n",
       "      <td>1</td>\n",
       "      <td>235</td>\n",
       "      <td>11</td>\n",
       "      <td>14</td>\n",
       "      <td>37</td>\n",
       "      <td>264.604</td>\n",
       "      <td>...</td>\n",
       "      <td>0</td>\n",
       "      <td>3</td>\n",
       "      <td>1</td>\n",
       "      <td>0</td>\n",
       "      <td>0</td>\n",
       "      <td>1</td>\n",
       "      <td>88</td>\n",
       "      <td>172</td>\n",
       "      <td>29</td>\n",
       "      <td>4</td>\n",
       "    </tr>\n",
       "    <tr>\n",
       "      <th>737</th>\n",
       "      <td>4</td>\n",
       "      <td>0</td>\n",
       "      <td>0</td>\n",
       "      <td>3</td>\n",
       "      <td>1</td>\n",
       "      <td>118</td>\n",
       "      <td>14</td>\n",
       "      <td>13</td>\n",
       "      <td>40</td>\n",
       "      <td>271.219</td>\n",
       "      <td>...</td>\n",
       "      <td>0</td>\n",
       "      <td>1</td>\n",
       "      <td>1</td>\n",
       "      <td>1</td>\n",
       "      <td>0</td>\n",
       "      <td>8</td>\n",
       "      <td>98</td>\n",
       "      <td>170</td>\n",
       "      <td>34</td>\n",
       "      <td>0</td>\n",
       "    </tr>\n",
       "    <tr>\n",
       "      <th>738</th>\n",
       "      <td>8</td>\n",
       "      <td>0</td>\n",
       "      <td>0</td>\n",
       "      <td>4</td>\n",
       "      <td>2</td>\n",
       "      <td>231</td>\n",
       "      <td>35</td>\n",
       "      <td>14</td>\n",
       "      <td>39</td>\n",
       "      <td>271.219</td>\n",
       "      <td>...</td>\n",
       "      <td>0</td>\n",
       "      <td>1</td>\n",
       "      <td>2</td>\n",
       "      <td>1</td>\n",
       "      <td>0</td>\n",
       "      <td>2</td>\n",
       "      <td>100</td>\n",
       "      <td>170</td>\n",
       "      <td>35</td>\n",
       "      <td>0</td>\n",
       "    </tr>\n",
       "    <tr>\n",
       "      <th>739</th>\n",
       "      <td>35</td>\n",
       "      <td>0</td>\n",
       "      <td>0</td>\n",
       "      <td>6</td>\n",
       "      <td>3</td>\n",
       "      <td>179</td>\n",
       "      <td>45</td>\n",
       "      <td>14</td>\n",
       "      <td>53</td>\n",
       "      <td>271.219</td>\n",
       "      <td>...</td>\n",
       "      <td>0</td>\n",
       "      <td>1</td>\n",
       "      <td>1</td>\n",
       "      <td>0</td>\n",
       "      <td>0</td>\n",
       "      <td>1</td>\n",
       "      <td>77</td>\n",
       "      <td>175</td>\n",
       "      <td>25</td>\n",
       "      <td>0</td>\n",
       "    </tr>\n",
       "  </tbody>\n",
       "</table>\n",
       "<p>5 rows × 21 columns</p>\n",
       "</div>"
      ],
      "text/plain": [
       "     ID  Reason for absence  Month of absence  Day of the week  Seasons  \\\n",
       "735  11                  14                 7                3        1   \n",
       "736   1                  11                 7                3        1   \n",
       "737   4                   0                 0                3        1   \n",
       "738   8                   0                 0                4        2   \n",
       "739  35                   0                 0                6        3   \n",
       "\n",
       "     Transportation expense  Distance from Residence to Work  Service time  \\\n",
       "735                     289                               36            13   \n",
       "736                     235                               11            14   \n",
       "737                     118                               14            13   \n",
       "738                     231                               35            14   \n",
       "739                     179                               45            14   \n",
       "\n",
       "     Age  Work load Average/day   ...  Disciplinary failure  Education  Son  \\\n",
       "735   33                 264.604  ...                     0          1    2   \n",
       "736   37                 264.604  ...                     0          3    1   \n",
       "737   40                 271.219  ...                     0          1    1   \n",
       "738   39                 271.219  ...                     0          1    2   \n",
       "739   53                 271.219  ...                     0          1    1   \n",
       "\n",
       "     Social drinker  Social smoker  Pet  Weight  Height  Body mass index  \\\n",
       "735               1              0    1      90     172               30   \n",
       "736               0              0    1      88     172               29   \n",
       "737               1              0    8      98     170               34   \n",
       "738               1              0    2     100     170               35   \n",
       "739               0              0    1      77     175               25   \n",
       "\n",
       "     Absenteeism time in hours  \n",
       "735                          8  \n",
       "736                          4  \n",
       "737                          0  \n",
       "738                          0  \n",
       "739                          0  \n",
       "\n",
       "[5 rows x 21 columns]"
      ]
     },
     "execution_count": 2,
     "metadata": {},
     "output_type": "execute_result"
    }
   ],
   "source": [
    "# Fazendo a leitura e averiguando se está tudo ok\n",
    "df = pd.read_csv('Absenteeism_at_work.csv', sep = ';')\n",
    "df.tail()"
   ]
  },
  {
   "cell_type": "code",
   "execution_count": 3,
   "metadata": {},
   "outputs": [
    {
     "data": {
      "text/plain": [
       "(740, 21)"
      ]
     },
     "execution_count": 3,
     "metadata": {},
     "output_type": "execute_result"
    }
   ],
   "source": [
    "df.shape"
   ]
  },
  {
   "cell_type": "markdown",
   "metadata": {},
   "source": [
    "O número 740 é a quantidade de linhas (ou registros) no seu conjunto de dados. Isso indica que você tem 740 entradas ou observações no seu conjunto de dados.\n",
    "\n",
    "O número 21 é a quantidade de colunas (ou variáveis) no seu conjunto de dados. Isso significa que você tem 21 diferentes variáveis (ou características) que foram medidas ou registradas para cada uma das 740 observações."
   ]
  },
  {
   "cell_type": "markdown",
   "metadata": {},
   "source": [
    "### Manipulação e limpeza de dados"
   ]
  },
  {
   "cell_type": "code",
   "execution_count": 4,
   "metadata": {},
   "outputs": [
    {
     "data": {
      "text/plain": [
       "ID                                 0\n",
       "Reason for absence                 0\n",
       "Month of absence                   0\n",
       "Day of the week                    0\n",
       "Seasons                            0\n",
       "Transportation expense             0\n",
       "Distance from Residence to Work    0\n",
       "Service time                       0\n",
       "Age                                0\n",
       "Work load Average/day              0\n",
       "Hit target                         0\n",
       "Disciplinary failure               0\n",
       "Education                          0\n",
       "Son                                0\n",
       "Social drinker                     0\n",
       "Social smoker                      0\n",
       "Pet                                0\n",
       "Weight                             0\n",
       "Height                             0\n",
       "Body mass index                    0\n",
       "Absenteeism time in hours          0\n",
       "dtype: int64"
      ]
     },
     "execution_count": 4,
     "metadata": {},
     "output_type": "execute_result"
    }
   ],
   "source": [
    "# Verificando se há valores nulos \n",
    "df.isna().sum()"
   ]
  },
  {
   "cell_type": "code",
   "execution_count": 5,
   "metadata": {},
   "outputs": [
    {
     "data": {
      "text/plain": [
       "ID                                   int64\n",
       "Reason for absence                   int64\n",
       "Month of absence                     int64\n",
       "Day of the week                      int64\n",
       "Seasons                              int64\n",
       "Transportation expense               int64\n",
       "Distance from Residence to Work      int64\n",
       "Service time                         int64\n",
       "Age                                  int64\n",
       "Work load Average/day              float64\n",
       "Hit target                           int64\n",
       "Disciplinary failure                 int64\n",
       "Education                            int64\n",
       "Son                                  int64\n",
       "Social drinker                       int64\n",
       "Social smoker                        int64\n",
       "Pet                                  int64\n",
       "Weight                               int64\n",
       "Height                               int64\n",
       "Body mass index                      int64\n",
       "Absenteeism time in hours            int64\n",
       "dtype: object"
      ]
     },
     "execution_count": 5,
     "metadata": {},
     "output_type": "execute_result"
    }
   ],
   "source": [
    "# Observando os tipos de dados\n",
    "df.dtypes"
   ]
  },
  {
   "cell_type": "code",
   "execution_count": 6,
   "metadata": {},
   "outputs": [
    {
     "name": "stdout",
     "output_type": "stream",
     "text": [
      "<class 'pandas.core.frame.DataFrame'>\n",
      "RangeIndex: 740 entries, 0 to 739\n",
      "Data columns (total 21 columns):\n",
      " #   Column                           Non-Null Count  Dtype  \n",
      "---  ------                           --------------  -----  \n",
      " 0   ID                               740 non-null    int64  \n",
      " 1   Reason for absence               740 non-null    int64  \n",
      " 2   Month of absence                 740 non-null    int64  \n",
      " 3   Day of the week                  740 non-null    int64  \n",
      " 4   Seasons                          740 non-null    int64  \n",
      " 5   Transportation expense           740 non-null    int64  \n",
      " 6   Distance from Residence to Work  740 non-null    int64  \n",
      " 7   Service time                     740 non-null    int64  \n",
      " 8   Age                              740 non-null    int64  \n",
      " 9   Work load Average/day            740 non-null    float64\n",
      " 10  Hit target                       740 non-null    int64  \n",
      " 11  Disciplinary failure             740 non-null    int64  \n",
      " 12  Education                        740 non-null    int64  \n",
      " 13  Son                              740 non-null    int64  \n",
      " 14  Social drinker                   740 non-null    int64  \n",
      " 15  Social smoker                    740 non-null    int64  \n",
      " 16  Pet                              740 non-null    int64  \n",
      " 17  Weight                           740 non-null    int64  \n",
      " 18  Height                           740 non-null    int64  \n",
      " 19  Body mass index                  740 non-null    int64  \n",
      " 20  Absenteeism time in hours        740 non-null    int64  \n",
      "dtypes: float64(1), int64(20)\n",
      "memory usage: 121.5 KB\n"
     ]
    }
   ],
   "source": [
    "df.info()"
   ]
  },
  {
   "cell_type": "code",
   "execution_count": 7,
   "metadata": {},
   "outputs": [
    {
     "data": {
      "text/plain": [
       "ID                                 36\n",
       "Reason for absence                 28\n",
       "Month of absence                   13\n",
       "Day of the week                     5\n",
       "Seasons                             4\n",
       "Transportation expense             24\n",
       "Distance from Residence to Work    25\n",
       "Service time                       18\n",
       "Age                                22\n",
       "Work load Average/day              38\n",
       "Hit target                         13\n",
       "Disciplinary failure                2\n",
       "Education                           4\n",
       "Son                                 5\n",
       "Social drinker                      2\n",
       "Social smoker                       2\n",
       "Pet                                 6\n",
       "Weight                             26\n",
       "Height                             14\n",
       "Body mass index                    17\n",
       "Absenteeism time in hours          19\n",
       "dtype: int64"
      ]
     },
     "execution_count": 7,
     "metadata": {},
     "output_type": "execute_result"
    }
   ],
   "source": [
    "# Observando quantidade de valores unicos\n",
    "df.nunique()"
   ]
  },
  {
   "cell_type": "code",
   "execution_count": 8,
   "metadata": {},
   "outputs": [],
   "source": [
    "# Iremos excluir a coluna ID pois é uma coluna de identificação, então ela não tem relevância \n",
    "df = df.drop('ID', axis= 1)"
   ]
  },
  {
   "cell_type": "markdown",
   "metadata": {},
   "source": [
    "<h2 style='text-align:center;'>Exploração de Dados (Análise Exploratória) parte 1 - Análise Individual</h2>\n",
    "\n",
    "Aqui nesta etapa, iremos analisar e explorar os dados para entender sua natureza. Vamos visualizar dados, calcular estatísticas descritivas e identificar padrões, tendências e possíveis outliers. Nesta primeira etapa, a exploração dos dados será realizada de maneira individual, com o objetivo de compreender a natureza dos dados. Isso envolve a análise de cada variável de forma isolada, permitindo visualizar os dados, calcular estatísticas descritivas e identificar padrões, tendências e possíveis outliers. Essa abordagem individual é fundamental para obter insights iniciais sobre cada aspecto do conjunto de dados antes de realizar análises mais complexas e multivariadas. Cada variável será cuidadosamente examinada para revelar informações relevantes que possam guiar a investigação posterior e a tomada de decisões informadas."
   ]
  },
  {
   "cell_type": "code",
   "execution_count": 9,
   "metadata": {},
   "outputs": [],
   "source": [
    "# Importando pacotes que nos auxiliarão na exploração dos dados\n",
    "import matplotlib.pyplot as plt\n",
    "import seaborn as sns \n",
    "import squarify as sq\n"
   ]
  },
  {
   "cell_type": "code",
   "execution_count": 10,
   "metadata": {},
   "outputs": [
    {
     "data": {
      "text/plain": [
       "3     87\n",
       "2     72\n",
       "10    71\n",
       "7     67\n",
       "5     64\n",
       "11    63\n",
       "8     54\n",
       "6     54\n",
       "9     53\n",
       "4     53\n",
       "1     50\n",
       "12    49\n",
       "0      3\n",
       "Name: Month of absence, dtype: int64"
      ]
     },
     "execution_count": 10,
     "metadata": {},
     "output_type": "execute_result"
    }
   ],
   "source": [
    "df['Month of absence'].value_counts()"
   ]
  },
  {
   "cell_type": "code",
   "execution_count": 11,
   "metadata": {},
   "outputs": [
    {
     "data": {
      "text/plain": [
       "Text(0, 0.5, 'Motivos de Ausência')"
      ]
     },
     "execution_count": 11,
     "metadata": {},
     "output_type": "execute_result"
    },
    {
     "data": {
      "image/png": "[encoded data removed]",
      "text/plain": [
       "<Figure size 1200x600 with 1 Axes>"
      ]
     },
     "metadata": {},
     "output_type": "display_data"
    }
   ],
   "source": [
    "plt.figure(figsize=(12,6))\n",
    "plt.title('Contagem de Motivos de Ausência no Local de Trabalho', fontsize = 15)\n",
    "\n",
    "sns.countplot(y = df['Reason for absence'])\n",
    "plt.xlabel('Contagem')\n",
    "plt.ylabel('Motivos de Ausência')"
   ]
  },
  {
   "cell_type": "markdown",
   "metadata": {},
   "source": [
    "Com base nos resultados da contagem de valores da coluna \"Reason for absence\", aqui estão oito conclusões que podem ser tiradas:\n",
    "\n",
    "1. **Motivos de Ausência Comuns**: Os motivos de ausência com os códigos 23, 28 e 27 são os mais comuns, com 149, 112 e 69 casos, respectivamente.\n",
    "\n",
    "2. **Diversidade de Motivos**: Há uma variedade de motivos de ausência, abrangendo uma ampla gama de códigos diferentes, indicando que as ausências não são predominantemente devido a um único motivo.\n",
    "\n",
    "3. **Códigos de Ausência Únicos**: Alguns códigos de motivo de ausência aparecem poucas vezes no conjunto de dados, como os códigos 2, 3, 4, 15, 16, 17, e 24, sugerindo que esses são casos raros.\n",
    "\n",
    "4. **Motivos de Ausência de Longo Prazo**: Motivos com códigos mais altos, como 23 (follow-up de pacientes) e 28 (consulta odontológica), são mais frequentes, o que pode indicar que esses motivos de ausência tendem a ser de longo prazo.\n",
    "\n",
    "5. **Motivos de Ausência de Curto Prazo**: Motivos com códigos mais baixos, como 0 (sem motivo dado) e 19 (lesões, envenenamentos, etc.), também são relativamente comuns, sugerindo que eles podem estar associados a ausências de curto prazo.\n",
    "\n",
    "6. **Variedade de Razões Médicas**: Motivos relacionados a problemas médicos, como códigos 13 (doenças musculoesqueléticas) e 27 (fisioterapia), são significativos, o que pode indicar que questões de saúde desempenham um papel importante nas ausências.\n",
    "\n",
    "7. **Possíveis Tendências Sazonais**: A contagem de motivos de ausência pode variar ao longo do ano ou por estação, dependendo da natureza dos motivos. Isso pode ser investigado ainda mais.\n",
    "\n",
    "8. **Necessidade de Classificação Detalhada**: Para análises mais aprofundadas, pode ser útil agrupar esses motivos em categorias mais amplas com base na natureza médica ou não médica das ausências.\n",
    "\n",
    "Essas conclusões iniciais fornecem uma visão geral das razões para o absentismo no local de trabalho e podem orientar análises adicionais e ações para gerenciar e entender melhor esse fenômeno."
   ]
  },
  {
   "cell_type": "code",
   "execution_count": 12,
   "metadata": {},
   "outputs": [
    {
     "data": {
      "image/png": "[encoded data removed]",
      "text/plain": [
       "<Figure size 1000x600 with 1 Axes>"
      ]
     },
     "metadata": {},
     "output_type": "display_data"
    }
   ],
   "source": [
    "import seaborn as sns\n",
    "import matplotlib.pyplot as plt\n",
    "\n",
    "# Criar o gráfico de contagem\n",
    "plt.figure(figsize=(10, 6))\n",
    "sns.countplot(x='Month of absence', data=df)\n",
    "\n",
    "# Adicionar rótulo acima das barras com a contagem de registros\n",
    "ax = plt.gca()\n",
    "for p in ax.patches:\n",
    "    ax.annotate(f'{p.get_height()}', (p.get_x() + p.get_width() / 2., p.get_height()),\n",
    "                ha='center', va='baseline', fontsize=12, color='black')\n",
    "\n",
    "# Definir título e rótulos dos eixos\n",
    "plt.title('Quantidade de Registros por Mês de Ausência')\n",
    "plt.xlabel('Mês de Ausência')\n",
    "plt.ylabel('Quantidade de Registros')\n",
    "\n",
    "# Mostrar o gráfico\n",
    "plt.show()\n"
   ]
  },
  {
   "cell_type": "markdown",
   "metadata": {},
   "source": [
    "Com base nos resultados da contagem de valores da coluna \"Month of absence\", podemos tirar as seguintes conclusões:\n",
    "\n",
    "1. **Distribuição Mensal**: Os dados mostram uma distribuição dos meses de ausência relativamente uniforme, com a maioria dos meses tendo um número semelhante de registros de ausência.\n",
    "\n",
    "2. **Meses de Pico**: Os meses de março (3), fevereiro (2) e outubro (10) têm os maiores números de registros de ausência. Isso sugere que esses meses podem ter um padrão de ausência mais alto em comparação com outros meses.\n",
    "\n",
    "3. **Meses com Menos Ausências**: Os meses de janeiro (1) e dezembro (12) têm as menores quantidades de registros de ausência. Isso pode estar relacionado a férias, feriados de final de ano e a possibilidade de menos pressão no trabalho durante esses períodos.\n",
    "\n",
    "4. **Mês 0**: Há um valor 0 na contagem de meses, indicando que existem apenas 3 registros em que o mês de ausência não foi especificado. Isso pode ser devido a dados ausentes ou registros incompletos.\n",
    "\n",
    "A distribuição desigual dos registros de ausência nos meses pode ser influenciada por vários fatores, como sazonalidade no tipo de trabalho, eventos sazonais, feriados, férias coletivas, entre outros. Para entender completamente as razões por trás dessas diferenças, pode ser necessário realizar análises adicionais e considerar o contexto específico da organização ou empresa em questão.\n",
    "\n",
    "A diferença nas quantidades de registros de ausência nos meses 3 e 2 (com mais casos) em comparação com os meses 1 e 12 (com menos casos) pode ser justificada por vários fatores:\n",
    "\n",
    "1. **Sazonalidade da Saúde**: É possível que haja sazonalidade em relação à saúde dos funcionários. Por exemplo, no inverno (meses 1 e 12), as pessoas podem estar mais propensas a resfriados e doenças sazonais, resultando em um aumento nas ausências.\n",
    "\n",
    "2. **Feriados e Férias de Final de Ano**: Os meses de janeiro (1) e dezembro (12) geralmente incluem feriados de final de ano e férias, quando muitos funcionários podem estar de férias ou afastados do trabalho por outros motivos, levando a menos registros de ausência relacionados ao trabalho.\n",
    "\n",
    "3. **Eventos da Empresa**: Algumas empresas podem ter eventos ou políticas específicas que afetam os registros de ausência em determinados meses. Por exemplo, dezembro pode ser um mês em que muitas empresas têm férias coletivas.\n",
    "\n",
    "4. **Pressão no Trabalho**: Meses como março (3) e fevereiro (2) podem ser períodos em que a pressão no trabalho é maior, levando a um aumento nas ausências relacionadas ao estresse, esgotamento ou problemas de saúde relacionados ao trabalho.\n",
    "\n",
    "5. **Padrões de Uso de Licença**: Políticas internas de licença, férias e tempo livre podem variar de empresa para empresa. Algumas empresas podem encorajar os funcionários a tirar férias ou licenças não relacionadas ao trabalho em meses específicos.\n",
    "\n",
    "6. **Fatores Regionais**: Dependendo da região e do clima, a sazonalidade pode variar. Em regiões com climas mais frios, é mais provável que as pessoas fiquem doentes no inverno.\n",
    "\n",
    "É importante observar que essas são possíveis justificativas, mas a verdadeira razão pode variar dependendo do contexto específico da empresa ou organização, das políticas de RH e dos padrões de saúde dos funcionários. Para entender completamente o motivo por trás dessas diferenças, pode ser necessário conduzir uma análise mais detalhada e considerar os fatores específicos que se aplicam à situação em questão."
   ]
  },
  {
   "cell_type": "code",
   "execution_count": 13,
   "metadata": {},
   "outputs": [
    {
     "data": {
      "image/png": "[encoded data removed]",
      "text/plain": [
       "<Figure size 1200x600 with 1 Axes>"
      ]
     },
     "metadata": {},
     "output_type": "display_data"
    }
   ],
   "source": [
    "# Calcular a contagem de registros por dia da semana\n",
    "day_of_week_counts = df['Day of the week'].value_counts()\n",
    "\n",
    "# Criar um dicionário com os rótulos e contagens\n",
    "labels = day_of_week_counts.index\n",
    "sizes = day_of_week_counts.values\n",
    "\n",
    "# Plotar o TreeMap\n",
    "plt.figure(figsize=(12, 6))\n",
    "sq.plot(sizes=sizes, label=labels, alpha=0.7)\n",
    "plt.axis('off')  # Remover os eixos\n",
    "plt.title('TreeMap de Ausências por Dia da Semana')\n",
    "plt.show()\n"
   ]
  },
  {
   "cell_type": "markdown",
   "metadata": {},
   "source": [
    "Com base nos resultados da contagem de valores da coluna \"day of the week\", onde 2 representa segunda-feira, 3 terça-feira, 4 quarta-feira, 5 quinta-feira e 6 sexta-feira, podemos tirar as seguintes conclusões:\n",
    "\n",
    "1. **Dias da Semana Úteis**: Os resultados mostram que só há registros de dias úteis (segunda a sexta-feira), o que é esperado para a maioria das configurações de trabalho padrão.\n",
    "\n",
    "2. **Distribuição Equilibrada**: A distribuição de registros parece relativamente equilibrada entre os dias úteis. Não há um dia com um número significativamente maior de registros em comparação com os outros.\n",
    "\n",
    "3. **Ausências Relacionadas à Semana de Trabalho**: A distribuição equilibrada pode sugerir que as ausências registradas estão mais relacionadas à rotina semanal de trabalho e não a variações sazonais ou fatores externos específicos a determinados dias da semana.\n",
    "\n",
    "4. **Possíveis Tendências Diárias**: Embora a distribuição seja equilibrada, ainda pode haver variações diárias nas ausências, e essas variações podem ser exploradas posteriormente em análises mais detalhadas.\n",
    "\n",
    "5. **Planejamento de Recursos**: Essa informação pode ser útil para o planejamento de recursos e gerenciamento de pessoal, pois mostra a distribuição das ausências ao longo da semana de trabalho.\n",
    "\n",
    "Em resumo, a análise da distribuição dos registros por dia da semana indica que as ausências estão relacionadas à semana de trabalho padrão, com uma distribuição equilibrada entre os dias úteis. Essas informações podem ser úteis para a tomada de decisões e o gerenciamento de recursos humanos."
   ]
  },
  {
   "cell_type": "code",
   "execution_count": 14,
   "metadata": {},
   "outputs": [
    {
     "data": {
      "image/png": "[encoded data removed]",
      "text/plain": [
       "<Figure size 1200x600 with 1 Axes>"
      ]
     },
     "metadata": {},
     "output_type": "display_data"
    }
   ],
   "source": [
    "plt.figure(figsize=(12,6))\n",
    "plt.title(\"Distribuição das Estações do Ano\", fontsize = 15)\n",
    "plt.xlabel('Estações do Ano')\n",
    "plt.ylabel('Percentagem de Registros (%)')\n",
    "\n",
    "ax = (df.Seasons.value_counts()/len(df)*100).sort_values().plot(kind = 'bar', rot = 0)\n",
    "ax.set_yticks(np.arange(0,110,10))\n",
    "\n",
    "for p in ax.patches:\n",
    "    ax.annotate('{:.2f}%'.format(p.get_height()), (p.get_x()+0.15, p.get_height()+1))"
   ]
  },
  {
   "cell_type": "markdown",
   "metadata": {},
   "source": [
    "Com base nos resultados da porcentagem de registros para cada estação do ano, onde as estações estão mapeadas como:\n",
    "\n",
    "    1. Verão\n",
    "    2. Outono\n",
    "    3. Inverno\n",
    "    4. Primavera \n",
    "\n",
    "1. **Distribuição Equilibrada**: A distribuição das estações do ano nos registros parece relativamente equilibrada, com nenhuma estação dominando significativamente em termos de número de registros. Isso sugere que as ausências estão distribuídas uniformemente ao longo das estações.\n",
    "\n",
    "2. **Estações de Transição**: As estações intermediárias, como a primavera (4) e o outono (2), têm uma presença quase igual de registros. Isso pode indicar que as estações de transição podem ter níveis de ausência semelhantes aos das estações mais extremas, como o verão (1) e o inverno (3).\n",
    "\n",
    "3. **Variação Sazonal**: Embora a distribuição seja equilibrada, pode haver variações sazonais nas ausências. Por exemplo, a primavera (4) pode ter níveis diferentes de ausência em comparação com o verão (1), dependendo do setor de trabalho e das características regionais.\n",
    "\n",
    "4. **Relevância para Planejamento**: Essas informações podem ser relevantes para o planejamento de recursos e a gestão de pessoal, especialmente em setores que são sazonalmente afetados por mudanças nas condições meteorológicas ou nas estações do ano.\n",
    "\n",
    "5. **Possíveis Análises Futuras**: As variações nas ausências ao longo das estações podem ser exploradas em análises futuras para entender melhor os fatores que afetam as ausências durante diferentes épocas do ano.\n",
    "\n",
    "Em resumo, a distribuição equilibrada das estações do ano nos registros sugere que as ausências estão bem distribuídas ao longo das estações, mas análises mais detalhadas podem ser necessárias para identificar possíveis tendências ou fatores sazonais que afetam as ausências."
   ]
  },
  {
   "cell_type": "markdown",
   "metadata": {},
   "source": [
    "**O que poderia justificar a primavera ser a estação com mais ausências?**\n",
    "\n",
    "A primavera ser a estação com mais ausências pode ser influenciado por diversos fatores. No entanto, é importante ressaltar que essa conclusão é baseada em uma análise dos dados e não necessariamente reflete uma relação de causa e efeito. Algumas possíveis justificativas para a primavera ter mais ausências podem incluir:\n",
    "\n",
    "1. **Alergias**: A primavera é conhecida por ser a temporada de polinização de muitas plantas, o que pode desencadear alergias sazonais. Funcionários que sofrem de alergias graves podem precisar tirar folgas para lidar com sintomas como espirros, coceira nos olhos e congestão nasal.\n",
    "\n",
    "2. **Condições Meteorológicas Variáveis**: A primavera muitas vezes traz variações climáticas imprevisíveis, incluindo dias quentes e frios. Essas mudanças bruscas de temperatura podem levar a doenças, resfriados e gripes, o que pode resultar em mais ausências.\n",
    "\n",
    "3. **Estresse Pré-Férias**: A primavera é um período que antecede muitos feriados e férias de verão. Os funcionários podem estar sob pressão para concluir projetos e tarefas antes de suas férias, o que pode aumentar os níveis de estresse e, consequentemente, levar a mais ausências relacionadas à saúde.\n",
    "\n",
    "4. **Variação nas Atividades de Lazer**: Durante a primavera, as pessoas tendem a se envolver mais em atividades ao ar livre, como esportes e jardinagem. Isso pode aumentar o risco de lesões e acidentes, resultando em ausências no trabalho.\n",
    "\n",
    "5. **Fatores Pessoais**: Os funcionários podem ter fatores pessoais que os tornam mais suscetíveis a ausências durante a primavera, como compromissos médicos, cirurgias planejadas ou outros eventos pessoais.\n",
    "\n",
    "6. **Políticas da Empresa**: As políticas da empresa, como flexibilidade no uso de licenças ou regras específicas para determinadas épocas do ano, podem influenciar a frequência das ausências durante a primavera.\n",
    "\n",
    "7. **Setor de Atuação**: O setor de atuação da empresa também pode desempenhar um papel. Por exemplo, empresas relacionadas à agricultura ou ao turismo podem ter flutuações sazonais no trabalho que afetam as ausências durante a primavera.\n",
    "\n",
    "É importante lembrar que as causas das ausências podem variar de empresa para empresa e de região para região. Portanto, uma análise mais aprofundada dos dados e, possivelmente, pesquisas ou entrevistas com os funcionários podem ser necessárias para entender completamente os motivos por trás das ausências na primavera em um contexto específico."
   ]
  },
  {
   "cell_type": "code",
   "execution_count": 18,
   "metadata": {},
   "outputs": [
    {
     "data": {
      "text/plain": [
       "<AxesSubplot:xlabel='Transportation expense', ylabel='Count'>"
      ]
     },
     "execution_count": 18,
     "metadata": {},
     "output_type": "execute_result"
    },
    {
     "data": {
      "image/png": "[encoded data removed]",
      "text/plain": [
       "<Figure size 640x480 with 1 Axes>"
      ]
     },
     "metadata": {},
     "output_type": "display_data"
    }
   ],
   "source": [
    "sns.histplot(df['Transportation expense'], bins = 8, kde = True)"
   ]
  },
  {
   "cell_type": "code",
   "execution_count": 17,
   "metadata": {},
   "outputs": [
    {
     "data": {
      "text/plain": [
       "179    180\n",
       "118     92\n",
       "225     81\n",
       "235     58\n",
       "289     45\n",
       "260     42\n",
       "291     40\n",
       "246     30\n",
       "155     29\n",
       "361     24\n",
       "248     24\n",
       "330     16\n",
       "369     15\n",
       "228      8\n",
       "189      8\n",
       "378      8\n",
       "157      7\n",
       "184      7\n",
       "233      7\n",
       "279      6\n",
       "300      5\n",
       "388      3\n",
       "268      3\n",
       "231      2\n",
       "Name: Transportation expense, dtype: int64"
      ]
     },
     "execution_count": 17,
     "metadata": {},
     "output_type": "execute_result"
    }
   ],
   "source": [
    "df['Transportation expense'].value_counts()"
   ]
  },
  {
   "cell_type": "code",
   "execution_count": null,
   "metadata": {},
   "outputs": [],
   "source": []
  },
  {
   "cell_type": "code",
   "execution_count": null,
   "metadata": {},
   "outputs": [],
   "source": []
  },
  {
   "cell_type": "code",
   "execution_count": null,
   "metadata": {},
   "outputs": [],
   "source": []
  },
  {
   "cell_type": "code",
   "execution_count": null,
   "metadata": {},
   "outputs": [],
   "source": []
  },
  {
   "cell_type": "code",
   "execution_count": null,
   "metadata": {},
   "outputs": [],
   "source": []
  },
  {
   "cell_type": "code",
   "execution_count": null,
   "metadata": {},
   "outputs": [],
   "source": []
  },
  {
   "cell_type": "code",
   "execution_count": null,
   "metadata": {},
   "outputs": [],
   "source": []
  },
  {
   "cell_type": "code",
   "execution_count": null,
   "metadata": {},
   "outputs": [],
   "source": []
  }
 ],
 "metadata": {
  "kernelspec": {
   "display_name": "Python 3 (ipykernel)",
   "language": "python",
   "name": "python3"
  },
  "language_info": {
   "codemirror_mode": {
    "name": "ipython",
    "version": 3
   },
   "file_extension": ".py",
   "mimetype": "text/x-python",
   "name": "python",
   "nbconvert_exporter": "python",
   "pygments_lexer": "ipython3",
   "version": "3.9.13"
  }
 },
 "nbformat": 4,
 "nbformat_minor": 2
}
